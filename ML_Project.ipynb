{
  "nbformat": 4,
  "nbformat_minor": 0,
  "metadata": {
    "colab": {
      "provenance": []
    },
    "kernelspec": {
      "name": "python3",
      "display_name": "Python 3"
    },
    "language_info": {
      "name": "python"
    }
  },
  "cells": [
    {
      "cell_type": "code",
      "source": [
        "import io\n",
        "import pandas as pd\n",
        "import random\n",
        "from sklearn import svm\n",
        "from sklearn.linear_model import LinearRegression\n",
        "from sklearn.neighbors import KNeighborsRegressor\n",
        "from sklearn.metrics import mean_squared_error"
      ],
      "metadata": {
        "id": "bftEkJVc07pr"
      },
      "execution_count": 17,
      "outputs": []
    },
    {
      "cell_type": "code",
      "execution_count": 4,
      "metadata": {
        "colab": {
          "base_uri": "https://localhost:8080/",
          "height": 73
        },
        "id": "H27CXi4G0xJy",
        "outputId": "b3c1a49a-7529-4b3e-f65b-c077c2bbaac3"
      },
      "outputs": [
        {
          "output_type": "display_data",
          "data": {
            "text/plain": [
              "<IPython.core.display.HTML object>"
            ],
            "text/html": [
              "\n",
              "     <input type=\"file\" id=\"files-a18acf34-ed77-4b07-befe-3fd825d59358\" name=\"files[]\" multiple disabled\n",
              "        style=\"border:none\" />\n",
              "     <output id=\"result-a18acf34-ed77-4b07-befe-3fd825d59358\">\n",
              "      Upload widget is only available when the cell has been executed in the\n",
              "      current browser session. Please rerun this cell to enable.\n",
              "      </output>\n",
              "      <script>// Copyright 2017 Google LLC\n",
              "//\n",
              "// Licensed under the Apache License, Version 2.0 (the \"License\");\n",
              "// you may not use this file except in compliance with the License.\n",
              "// You may obtain a copy of the License at\n",
              "//\n",
              "//      http://www.apache.org/licenses/LICENSE-2.0\n",
              "//\n",
              "// Unless required by applicable law or agreed to in writing, software\n",
              "// distributed under the License is distributed on an \"AS IS\" BASIS,\n",
              "// WITHOUT WARRANTIES OR CONDITIONS OF ANY KIND, either express or implied.\n",
              "// See the License for the specific language governing permissions and\n",
              "// limitations under the License.\n",
              "\n",
              "/**\n",
              " * @fileoverview Helpers for google.colab Python module.\n",
              " */\n",
              "(function(scope) {\n",
              "function span(text, styleAttributes = {}) {\n",
              "  const element = document.createElement('span');\n",
              "  element.textContent = text;\n",
              "  for (const key of Object.keys(styleAttributes)) {\n",
              "    element.style[key] = styleAttributes[key];\n",
              "  }\n",
              "  return element;\n",
              "}\n",
              "\n",
              "// Max number of bytes which will be uploaded at a time.\n",
              "const MAX_PAYLOAD_SIZE = 100 * 1024;\n",
              "\n",
              "function _uploadFiles(inputId, outputId) {\n",
              "  const steps = uploadFilesStep(inputId, outputId);\n",
              "  const outputElement = document.getElementById(outputId);\n",
              "  // Cache steps on the outputElement to make it available for the next call\n",
              "  // to uploadFilesContinue from Python.\n",
              "  outputElement.steps = steps;\n",
              "\n",
              "  return _uploadFilesContinue(outputId);\n",
              "}\n",
              "\n",
              "// This is roughly an async generator (not supported in the browser yet),\n",
              "// where there are multiple asynchronous steps and the Python side is going\n",
              "// to poll for completion of each step.\n",
              "// This uses a Promise to block the python side on completion of each step,\n",
              "// then passes the result of the previous step as the input to the next step.\n",
              "function _uploadFilesContinue(outputId) {\n",
              "  const outputElement = document.getElementById(outputId);\n",
              "  const steps = outputElement.steps;\n",
              "\n",
              "  const next = steps.next(outputElement.lastPromiseValue);\n",
              "  return Promise.resolve(next.value.promise).then((value) => {\n",
              "    // Cache the last promise value to make it available to the next\n",
              "    // step of the generator.\n",
              "    outputElement.lastPromiseValue = value;\n",
              "    return next.value.response;\n",
              "  });\n",
              "}\n",
              "\n",
              "/**\n",
              " * Generator function which is called between each async step of the upload\n",
              " * process.\n",
              " * @param {string} inputId Element ID of the input file picker element.\n",
              " * @param {string} outputId Element ID of the output display.\n",
              " * @return {!Iterable<!Object>} Iterable of next steps.\n",
              " */\n",
              "function* uploadFilesStep(inputId, outputId) {\n",
              "  const inputElement = document.getElementById(inputId);\n",
              "  inputElement.disabled = false;\n",
              "\n",
              "  const outputElement = document.getElementById(outputId);\n",
              "  outputElement.innerHTML = '';\n",
              "\n",
              "  const pickedPromise = new Promise((resolve) => {\n",
              "    inputElement.addEventListener('change', (e) => {\n",
              "      resolve(e.target.files);\n",
              "    });\n",
              "  });\n",
              "\n",
              "  const cancel = document.createElement('button');\n",
              "  inputElement.parentElement.appendChild(cancel);\n",
              "  cancel.textContent = 'Cancel upload';\n",
              "  const cancelPromise = new Promise((resolve) => {\n",
              "    cancel.onclick = () => {\n",
              "      resolve(null);\n",
              "    };\n",
              "  });\n",
              "\n",
              "  // Wait for the user to pick the files.\n",
              "  const files = yield {\n",
              "    promise: Promise.race([pickedPromise, cancelPromise]),\n",
              "    response: {\n",
              "      action: 'starting',\n",
              "    }\n",
              "  };\n",
              "\n",
              "  cancel.remove();\n",
              "\n",
              "  // Disable the input element since further picks are not allowed.\n",
              "  inputElement.disabled = true;\n",
              "\n",
              "  if (!files) {\n",
              "    return {\n",
              "      response: {\n",
              "        action: 'complete',\n",
              "      }\n",
              "    };\n",
              "  }\n",
              "\n",
              "  for (const file of files) {\n",
              "    const li = document.createElement('li');\n",
              "    li.append(span(file.name, {fontWeight: 'bold'}));\n",
              "    li.append(span(\n",
              "        `(${file.type || 'n/a'}) - ${file.size} bytes, ` +\n",
              "        `last modified: ${\n",
              "            file.lastModifiedDate ? file.lastModifiedDate.toLocaleDateString() :\n",
              "                                    'n/a'} - `));\n",
              "    const percent = span('0% done');\n",
              "    li.appendChild(percent);\n",
              "\n",
              "    outputElement.appendChild(li);\n",
              "\n",
              "    const fileDataPromise = new Promise((resolve) => {\n",
              "      const reader = new FileReader();\n",
              "      reader.onload = (e) => {\n",
              "        resolve(e.target.result);\n",
              "      };\n",
              "      reader.readAsArrayBuffer(file);\n",
              "    });\n",
              "    // Wait for the data to be ready.\n",
              "    let fileData = yield {\n",
              "      promise: fileDataPromise,\n",
              "      response: {\n",
              "        action: 'continue',\n",
              "      }\n",
              "    };\n",
              "\n",
              "    // Use a chunked sending to avoid message size limits. See b/62115660.\n",
              "    let position = 0;\n",
              "    do {\n",
              "      const length = Math.min(fileData.byteLength - position, MAX_PAYLOAD_SIZE);\n",
              "      const chunk = new Uint8Array(fileData, position, length);\n",
              "      position += length;\n",
              "\n",
              "      const base64 = btoa(String.fromCharCode.apply(null, chunk));\n",
              "      yield {\n",
              "        response: {\n",
              "          action: 'append',\n",
              "          file: file.name,\n",
              "          data: base64,\n",
              "        },\n",
              "      };\n",
              "\n",
              "      let percentDone = fileData.byteLength === 0 ?\n",
              "          100 :\n",
              "          Math.round((position / fileData.byteLength) * 100);\n",
              "      percent.textContent = `${percentDone}% done`;\n",
              "\n",
              "    } while (position < fileData.byteLength);\n",
              "  }\n",
              "\n",
              "  // All done.\n",
              "  yield {\n",
              "    response: {\n",
              "      action: 'complete',\n",
              "    }\n",
              "  };\n",
              "}\n",
              "\n",
              "scope.google = scope.google || {};\n",
              "scope.google.colab = scope.google.colab || {};\n",
              "scope.google.colab._files = {\n",
              "  _uploadFiles,\n",
              "  _uploadFilesContinue,\n",
              "};\n",
              "})(self);\n",
              "</script> "
            ]
          },
          "metadata": {}
        },
        {
          "output_type": "stream",
          "name": "stdout",
          "text": [
            "Saving insurance.csv to insurance.csv\n"
          ]
        }
      ],
      "source": [
        "# loading dataset file\n",
        "from google.colab import files\n",
        "uploaded = files.upload()"
      ]
    },
    {
      "cell_type": "code",
      "source": [
        "# read from to dataset to verify it has been loaded\n",
        "df = pd.read_csv(\"/content/insurance.csv\")"
      ],
      "metadata": {
        "id": "p0mwcVgp1FiK"
      },
      "execution_count": 18,
      "outputs": []
    },
    {
      "cell_type": "code",
      "source": [
        "# checking datatypes for features before converting some of them\n",
        "print(df.dtypes)"
      ],
      "metadata": {
        "colab": {
          "base_uri": "https://localhost:8080/"
        },
        "id": "pV_9nb_i2-R0",
        "outputId": "74ed6f80-4b1c-42d2-ad9e-ee410db5be09"
      },
      "execution_count": 19,
      "outputs": [
        {
          "output_type": "stream",
          "name": "stdout",
          "text": [
            "age           int64\n",
            "sex          object\n",
            "bmi         float64\n",
            "children      int64\n",
            "smoker       object\n",
            "region       object\n",
            "charges     float64\n",
            "dtype: object\n"
          ]
        }
      ]
    },
    {
      "cell_type": "code",
      "source": [
        "# Handling using maps to convert to other datatype to be numeric for some features\n",
        "sex_mapping = {'female':0, 'male':1}\n",
        "smoker_mapping = {'no':0, 'yes':1}\n",
        "region_mapping = {'southwest': 0, 'southeast': 1, 'northwest': 2, 'northeast': 3}"
      ],
      "metadata": {
        "id": "Uz3jrXra9T5w"
      },
      "execution_count": 7,
      "outputs": []
    },
    {
      "cell_type": "code",
      "source": [
        "df['sex'] = df['sex'].map(sex_mapping)\n",
        "df['smoker'] = df['smoker'].map(smoker_mapping)\n",
        "df['region'] = df['region'].map(region_mapping)"
      ],
      "metadata": {
        "id": "2uAQXNzHDPoU"
      },
      "execution_count": 8,
      "outputs": []
    },
    {
      "cell_type": "code",
      "source": [
        "# check if features are already converted\n",
        "print(df.dtypes)"
      ],
      "metadata": {
        "id": "fN29i6Z93Wlm",
        "colab": {
          "base_uri": "https://localhost:8080/"
        },
        "outputId": "7a9d841a-72bf-4b55-d6ef-6d08b8288d2a"
      },
      "execution_count": 9,
      "outputs": [
        {
          "output_type": "stream",
          "name": "stdout",
          "text": [
            "age           int64\n",
            "sex           int64\n",
            "bmi         float64\n",
            "children      int64\n",
            "smoker        int64\n",
            "region        int64\n",
            "charges     float64\n",
            "dtype: object\n"
          ]
        }
      ]
    },
    {
      "cell_type": "code",
      "source": [
        "features = ['age', 'sex', 'bmi', 'children', 'smoker', 'region']\n",
        "X = df[features]\n",
        "Y = df.charges # Target that needed to be predicted later"
      ],
      "metadata": {
        "id": "8zzP5CfyKoLi"
      },
      "execution_count": 10,
      "outputs": []
    },
    {
      "cell_type": "code",
      "source": [
        "# showing some statistics about features before scaling some features as a preprocessing for data also\n",
        "print(df.describe())"
      ],
      "metadata": {
        "colab": {
          "base_uri": "https://localhost:8080/"
        },
        "id": "sT_sd7WoIyIT",
        "outputId": "798d80de-a3bb-4d3e-ac7a-ec041f407dc4"
      },
      "execution_count": 11,
      "outputs": [
        {
          "output_type": "stream",
          "name": "stdout",
          "text": [
            "               age          sex          bmi     children       smoker  \\\n",
            "count  1338.000000  1338.000000  1338.000000  1338.000000  1338.000000   \n",
            "mean     39.207025     0.505232    30.663397     1.094918     0.204783   \n",
            "std      14.049960     0.500160     6.098187     1.205493     0.403694   \n",
            "min      18.000000     0.000000    15.960000     0.000000     0.000000   \n",
            "25%      27.000000     0.000000    26.296250     0.000000     0.000000   \n",
            "50%      39.000000     1.000000    30.400000     1.000000     0.000000   \n",
            "75%      51.000000     1.000000    34.693750     2.000000     0.000000   \n",
            "max      64.000000     1.000000    53.130000     5.000000     1.000000   \n",
            "\n",
            "            region       charges  \n",
            "count  1338.000000   1338.000000  \n",
            "mean      1.484305  13270.422265  \n",
            "std       1.104885  12110.011237  \n",
            "min       0.000000   1121.873900  \n",
            "25%       1.000000   4740.287150  \n",
            "50%       1.000000   9382.033000  \n",
            "75%       2.000000  16639.912515  \n",
            "max       3.000000  63770.428010  \n"
          ]
        }
      ]
    },
    {
      "cell_type": "code",
      "source": [
        "# Scaling features that needs to be scaled because its large range\n",
        "scaled_features = ['age', 'bmi']\n",
        "for feature in scaled_features:\n",
        "    min_age = df[feature].min()\n",
        "    max_age = df[feature].max()\n",
        "    avg_age = df[feature].mean()\n",
        "    df[feature] = (df[feature] - avg_age) / max_age - min_age\n"
      ],
      "metadata": {
        "id": "jtRc5dISNeLC"
      },
      "execution_count": 12,
      "outputs": []
    },
    {
      "cell_type": "code",
      "source": [
        "# Showing some statistics about features after scaling\n",
        "print(df.describe())"
      ],
      "metadata": {
        "colab": {
          "base_uri": "https://localhost:8080/"
        },
        "id": "cdxW8IuhOQ3B",
        "outputId": "5cc88b28-ff86-4e67-cf71-411e3ed983bd"
      },
      "execution_count": 13,
      "outputs": [
        {
          "output_type": "stream",
          "name": "stdout",
          "text": [
            "               age          sex          bmi     children       smoker  \\\n",
            "count  1338.000000  1338.000000  1338.000000  1338.000000  1338.000000   \n",
            "mean    -18.000000     0.505232   -15.960000     1.094918     0.204783   \n",
            "std       0.219531     0.500160     0.114779     1.205493     0.403694   \n",
            "min     -18.331360     0.000000   -16.236744     0.000000     0.000000   \n",
            "25%     -18.190735     0.000000   -16.042197     0.000000     0.000000   \n",
            "50%     -18.003235     1.000000   -15.964958     1.000000     0.000000   \n",
            "75%     -17.815735     1.000000   -15.884142     2.000000     0.000000   \n",
            "max     -17.612610     1.000000   -15.537139     5.000000     1.000000   \n",
            "\n",
            "            region       charges  \n",
            "count  1338.000000   1338.000000  \n",
            "mean      1.484305  13270.422265  \n",
            "std       1.104885  12110.011237  \n",
            "min       0.000000   1121.873900  \n",
            "25%       1.000000   4740.287150  \n",
            "50%       1.000000   9382.033000  \n",
            "75%       2.000000  16639.912515  \n",
            "max       3.000000  63770.428010  \n"
          ]
        }
      ]
    },
    {
      "cell_type": "code",
      "source": [
        "# spiliting data to training and test sets : 1000 sample for training, 338 for testing\n",
        "def train_test_split(X, Y, test_size=0.253, random_state=None):\n",
        "    if random_state is not None:\n",
        "        random.seed(random_state)\n",
        "\n",
        "    total_samples = len(X)\n",
        "    test_samples = int(test_size * total_samples)\n",
        "\n",
        "    test_indices = random.sample(range(total_samples), test_samples)\n",
        "    train_indices = [i for i in range(total_samples) if i not in test_indices]\n",
        "\n",
        "    x_train = X.iloc[train_indices]\n",
        "    x_test = X.iloc[test_indices]\n",
        "    y_train = Y.iloc[train_indices]\n",
        "    y_test = Y.iloc[test_indices]\n",
        "    return x_train, x_test, y_train, y_test\n",
        "\n",
        "\n",
        "x_train, x_test, y_train, y_test = train_test_split(X, Y, random_state=40)\n"
      ],
      "metadata": {
        "id": "hf_goIKOPfnM"
      },
      "execution_count": 14,
      "outputs": []
    },
    {
      "cell_type": "code",
      "source": [
        "# Constructing the 1st Model Using SVM\n",
        "svm_model = svm.SVR()\n",
        "svm_model.fit(x_train, y_train) # applying the training process for the model\n",
        "y_pred_svm = svm_model.predict(x_test) # make predictions"
      ],
      "metadata": {
        "id": "biZPT-ngRCND"
      },
      "execution_count": 15,
      "outputs": []
    },
    {
      "cell_type": "code",
      "source": [
        "# Evaluating SVM Model using Mean Squared Error Rule\n",
        "mse_svm = mean_squared_error(y_test, y_pred_svm)\n",
        "print(mse_svm)"
      ],
      "metadata": {
        "colab": {
          "base_uri": "https://localhost:8080/"
        },
        "id": "TBj1OQ0uTbTW",
        "outputId": "66f2fe9e-3c69-432e-a28a-53087a17e65e"
      },
      "execution_count": 16,
      "outputs": [
        {
          "output_type": "stream",
          "name": "stdout",
          "text": [
            "162586793.49785438\n"
          ]
        }
      ]
    },
    {
      "cell_type": "code",
      "source": [
        "# Here Construct the 2nd Model Using Linear Regrission\n"
      ],
      "metadata": {
        "id": "rhO7zJ51VXVV"
      },
      "execution_count": null,
      "outputs": []
    },
    {
      "cell_type": "code",
      "source": [
        "# Evaluate the 2nd Model Using Linear Regrission\n"
      ],
      "metadata": {
        "id": "LeseqLIQVfXV"
      },
      "execution_count": null,
      "outputs": []
    },
    {
      "cell_type": "code",
      "source": [
        "# Here Construct the 3rd Model\n"
      ],
      "metadata": {
        "id": "pXsyvUdBVmgk"
      },
      "execution_count": null,
      "outputs": []
    },
    {
      "cell_type": "code",
      "source": [
        "# Evaluate the 3rd Model\n"
      ],
      "metadata": {
        "id": "reat-lVZVmzR"
      },
      "execution_count": null,
      "outputs": []
    }
  ]
}